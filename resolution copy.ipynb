{
 "cells": [
  {
   "attachments": {},
   "cell_type": "markdown",
   "metadata": {},
   "source": [
    "# 0 Imports"
   ]
  },
  {
   "cell_type": "code",
   "execution_count": 11,
   "metadata": {},
   "outputs": [],
   "source": [
    "import pandas as pd\n",
    "import pandas as pd\n",
    "import numpy as np\n",
    "from sklearn.ensemble import RandomForestClassifier\n",
    "from xgboost import XGBClassifier\n",
    "from sklearn.model_selection import train_test_split\n",
    "from sklearn.metrics import accuracy_score\n",
    "import scipy.io\n",
    "import matplotlib.pyplot as plt\n",
    "from ipywidgets import widgets, interact"
   ]
  },
  {
   "cell_type": "code",
   "execution_count": 12,
   "metadata": {},
   "outputs": [],
   "source": [
    "# path para guardar o dataset\n",
    "PATH = './'\n",
    "PATH_TRAIN_CSV = './data/train.csv'\n",
    "PATH_TRAIN_IMG = './data/train_data.mat'\n",
    "PATH_TEST_CSV = './data/test.csv'\n",
    "PATH_TEST_IMG = './data/test_data.mat'"
   ]
  },
  {
   "attachments": {},
   "cell_type": "markdown",
   "metadata": {},
   "source": [
    "# 1 Exploração e Preparação dos Dados\n",
    "\n",
    "### Visualização dos dados"
   ]
  },
  {
   "cell_type": "code",
   "execution_count": 13,
   "metadata": {},
   "outputs": [],
   "source": [
    "def get_data_from_mat(train_file,test_file):\n",
    "    train_mat = scipy.io.loadmat(train_file) \n",
    "    test_mat = scipy.io.loadmat(test_file) \n",
    "    # print(train_mat.keys())\n",
    "    # print(test_mat.keys())\n",
    "    train_np = np.array(train_mat['train_data']).transpose(2,0,1)\n",
    "    test_np = np.array(test_mat['test_data']).transpose(2,0,1)\n",
    "    # print(train_np.shape)\n",
    "    # print(test_np.shape)\n",
    "    return  train_np, test_np\n",
    "\n",
    "\n",
    "def load_data(path_train_csv, path_train_img, path_test_csv, path_test_img):\n",
    "    train_csv = pd.read_csv(path_train_csv, header=0)\n",
    "    test_csv = pd.read_csv(path_test_csv, header=0)\n",
    "    train_img, test_img = get_data_from_mat(path_train_img, path_test_img)\n",
    "    # train = train_csv + train_img\n",
    "    # test = test_csv + test_img\n",
    "    # return train, test\n",
    "    return train_csv, test_csv, train_img, test_img\n",
    "\n",
    "\n",
    "def visualize(image):\n",
    "    #plt.figure(\"sample\", (12, 6))\n",
    "    #plt.subplot(1, 2, 1)\n",
    "    plt.imshow(image, cmap=\"gray\")    \n",
    "    #plt.subplot(1, 2, 2)\n",
    "    #plt.imshow(image, cmap=\"gray\")\n",
    "    plt.show()      \n",
    "\n",
    "def show_ds(ds):\n",
    "    print(\"ds shape:\",ds.shape)\n",
    "    print(\"ds max:\",np.max(ds))\n",
    "    print(\"ds min:\",np.min(ds))\n",
    "    print(\"ds average:\",np.average(ds))\n",
    "    @interact\n",
    "    def visualize_set(scan_index=(0,len(ds)-1)):\n",
    "        #print(scan_index)\n",
    "        visualize(ds[scan_index,:,:])"
   ]
  },
  {
   "cell_type": "code",
   "execution_count": 14,
   "metadata": {},
   "outputs": [
    {
     "name": "stdout",
     "output_type": "stream",
     "text": [
      "Data de treino:\n",
      "      id  age  sex  education\n",
      "0      1   13    1          7\n",
      "1      2   14    0          8\n",
      "2      3   15    1          9\n",
      "3      4   15    1          9\n",
      "4      5   15    1          9\n",
      "..   ...  ...  ...        ...\n",
      "107  108   77    1          4\n",
      "108  109   67    0          4\n",
      "109  110   55    0          4\n",
      "110  111   76    1          3\n",
      "111  112   69    0          4\n",
      "\n",
      "[112 rows x 4 columns]\n",
      "ds shape: (112, 90, 90)\n",
      "ds max: 1.0\n",
      "ds min: 0.0\n",
      "ds average: 0.024116160549305543\n"
     ]
    },
    {
     "data": {
      "application/vnd.jupyter.widget-view+json": {
       "model_id": "3d51ef9357444d3884f014089c77babf",
       "version_major": 2,
       "version_minor": 0
      },
      "text/plain": [
       "interactive(children=(IntSlider(value=55, description='scan_index', max=111), Output()), _dom_classes=('widget…"
      ]
     },
     "metadata": {},
     "output_type": "display_data"
    },
    {
     "name": "stdout",
     "output_type": "stream",
     "text": [
      "Data de Teste:\n",
      "    id  sex  education\n",
      "0    1    0         13\n",
      "1    2    0         11\n",
      "2    3    1          9\n",
      "3    4    1         13\n",
      "4    5    0         12\n",
      "5    6    0         17\n",
      "6    7    0          9\n",
      "7    8    0          4\n",
      "8    9    1          9\n",
      "9   10    1          4\n",
      "10  11    1         14\n",
      "11  12    0          9\n",
      "12  13    1          2\n",
      "13  14    1          5\n",
      "14  15    1          9\n",
      "15  16    1         11\n",
      "16  17    1          9\n",
      "17  18    0         17\n",
      "18  19    1         15\n",
      "19  20    1         14\n",
      "20  21    1          4\n",
      "21  22    0          4\n",
      "22  23    1          4\n",
      "23  24    0          0\n",
      "24  25    1          2\n",
      "25  26    1          4\n",
      "26  27    1          3\n",
      "27  28    1          4\n",
      "ds shape: (28, 90, 90)\n",
      "ds max: 1.0\n",
      "ds min: 0.0\n",
      "ds average: 0.024994026906171023\n"
     ]
    },
    {
     "data": {
      "application/vnd.jupyter.widget-view+json": {
       "model_id": "f8d85bd2ddae4e5d9422e556248fc3a2",
       "version_major": 2,
       "version_minor": 0
      },
      "text/plain": [
       "interactive(children=(IntSlider(value=13, description='scan_index', max=27), Output()), _dom_classes=('widget-…"
      ]
     },
     "metadata": {},
     "output_type": "display_data"
    }
   ],
   "source": [
    "train_csv, test_csv, train_img, test_img = load_data(PATH_TRAIN_CSV, PATH_TRAIN_IMG, PATH_TEST_CSV, PATH_TEST_IMG)\n",
    "\n",
    "print(\"Data de treino:\")\n",
    "print(train_csv)\n",
    "show_ds(train_img)\n",
    "print(\"Data de Teste:\")\n",
    "print(test_csv)\n",
    "show_ds(test_img)"
   ]
  },
  {
   "attachments": {},
   "cell_type": "markdown",
   "metadata": {},
   "source": [
    "### Preparação dos dados"
   ]
  },
  {
   "cell_type": "code",
   "execution_count": 15,
   "metadata": {},
   "outputs": [],
   "source": [
    "def fix_sex(csv):\n",
    "    female = csv['sex']\n",
    "    male = []\n",
    "    for person in female:\n",
    "        if person==1:\n",
    "            male.append(0)\n",
    "        else:\n",
    "            male.append(1)\n",
    "    csv.drop('sex', axis='columns', inplace=True)\n",
    "    csv['Female']=female\n",
    "    csv['Male']=male\n",
    "    csv.drop('id', axis='columns', inplace=True)\n",
    "    return csv\n",
    "    \n",
    "def img_to_list(img):\n",
    "    tamanho = len(img)\n",
    "    lista = []\n",
    "    # triangular inferior sem diagonal\n",
    "    for linha in range(tamanho):\n",
    "        for coluna in range(linha):\n",
    "            lista.append(img[linha][coluna])\n",
    "    return lista\n",
    "\n",
    "def imgs_to_matrix(imgs):\n",
    "    matrix = []\n",
    "    for img in imgs:\n",
    "        matrix.append(img_to_list(img))\n",
    "    return matrix\n",
    "\n",
    "def remove_null_columns(matrix1, matrix2):\n",
    "    columns_to_remove = []\n",
    "    m1_row_len = len(matrix1)\n",
    "    m2_row_len = len(matrix2)\n",
    "    column_len = len(matrix1[0])\n",
    "    for column in range(column_len):\n",
    "        all_zero = True\n",
    "        for row in range(m1_row_len):\n",
    "            if matrix1[row][column]!=0:\n",
    "                all_zero=False\n",
    "        for row in range(m2_row_len):\n",
    "            if matrix2[row][column]!=0:\n",
    "                all_zero=False\n",
    "        if all_zero:\n",
    "            columns_to_remove.append(column)\n",
    "\n",
    "    brain_activity_index = list(range(column_len))\n",
    "    for column in columns_to_remove[::-1]:\n",
    "        brain_activity_index.pop(column)\n",
    "        for line in range(m1_row_len):\n",
    "            matrix1[line].pop(column)\n",
    "        for line in range(m2_row_len):\n",
    "            matrix2[line].pop(column)\n",
    "    return matrix1, matrix2, brain_activity_index\n",
    "\n",
    "def join_data(train_csv, test_csv, train_img, test_img):\n",
    "    train_matrix = imgs_to_matrix(train_img)\n",
    "    test_matrix = imgs_to_matrix(test_img)\n",
    "    train_clean_matrix, test_clean_matrix, brain_activity_index = remove_null_columns(train_matrix, test_matrix)\n",
    "    train_data  = pd.concat([train_csv, pd.DataFrame(train_clean_matrix)], axis=1)\n",
    "    train_data .columns = list(train_csv.columns) + [f'rel-{brain_activity_index[i]}' for i in range(len(brain_activity_index))]\n",
    "    test_data = pd.concat([test_csv, pd.DataFrame(test_clean_matrix)], axis=1)\n",
    "    test_data.columns = list(test_csv.columns) + [f'rel-{brain_activity_index[i]}' for i in range(len(brain_activity_index))]\n",
    "    return train_data , test_data, brain_activity_index"
   ]
  },
  {
   "cell_type": "code",
   "execution_count": 16,
   "metadata": {},
   "outputs": [
    {
     "name": "stdout",
     "output_type": "stream",
     "text": [
      "     age  education  Female  Male     rel-1  rel-3     rel-4     rel-5   \n",
      "0     13          7       1     0  0.131525    0.0  0.136950  0.000000  \\\n",
      "1     14          8       0     1  0.117704    0.0  0.132998  0.037714   \n",
      "2     15          9       1     0  0.155806    0.0  0.165429  0.022278   \n",
      "3     15          9       1     0  0.145214    0.0  0.162493  0.000000   \n",
      "4     15          9       1     0  0.161360    0.0  0.172043  0.017686   \n",
      "..   ...        ...     ...   ...       ...    ...       ...       ...   \n",
      "107   77          4       1     0  0.215767    0.0  0.184942  0.019446   \n",
      "108   67          4       0     1  0.143005    0.0  0.124350  0.000000   \n",
      "109   55          4       0     1  0.116085    0.0  0.156406  0.020947   \n",
      "110   76          3       1     0  0.156654    0.0  0.166613  0.046464   \n",
      "111   69          4       0     1  0.114586    0.0  0.128877  0.045583   \n",
      "\n",
      "        rel-8    rel-13  ...  rel-3975  rel-3977  rel-3979  rel-3981   \n",
      "0    0.146309  0.085044  ...  0.000000  0.000000  0.000000  0.014927  \\\n",
      "1    0.113425  0.105403  ...  0.000000  0.000000  0.000000  0.031811   \n",
      "2    0.096080  0.087890  ...  0.000000  0.000000  0.000000  0.021235   \n",
      "3    0.124115  0.097949  ...  0.000000  0.000000  0.000000  0.015130   \n",
      "4    0.099488  0.076114  ...  0.000000  0.000000  0.000000  0.016533   \n",
      "..        ...       ...  ...       ...       ...       ...       ...   \n",
      "107  0.109972  0.108091  ...  0.033167  0.015108  0.016434  0.056483   \n",
      "108  0.090189  0.089367  ...  0.000000  0.013166  0.029519  0.051964   \n",
      "109  0.122589  0.091325  ...  0.000000  0.000000  0.000000  0.034193   \n",
      "110  0.091244  0.147484  ...  0.000000  0.000000  0.000000  0.051497   \n",
      "111  0.124734  0.101503  ...  0.000000  0.000000  0.045683  0.028919   \n",
      "\n",
      "     rel-3989  rel-3993  rel-3997  rel-3999  rel-4001  rel-4003  \n",
      "0    0.000000  0.000000  0.000000  0.000000  0.585006  0.280606  \n",
      "1    0.000000  0.000000  0.000000  0.000000  0.599437  0.207478  \n",
      "2    0.018050  0.000000  0.000000  0.000000  0.630374  0.246472  \n",
      "3    0.000000  0.000000  0.000000  0.000000  0.562505  0.287888  \n",
      "4    0.000000  0.000000  0.000000  0.000000  0.564043  0.234284  \n",
      "..        ...       ...       ...       ...       ...       ...  \n",
      "107  0.000000  0.000000  0.000000  0.011150  0.660292  0.302675  \n",
      "108  0.000000  0.013098  0.011171  0.019141  0.630415  0.204125  \n",
      "109  0.010498  0.000000  0.000000  0.000000  0.574355  0.246784  \n",
      "110  0.012697  0.019894  0.010225  0.000000  0.631057  0.216259  \n",
      "111  0.000000  0.000000  0.024996  0.000000  0.655354  0.274812  \n",
      "\n",
      "[112 rows x 1206 columns]\n",
      "    education  Female  Male     rel-1     rel-3     rel-4     rel-5     rel-8   \n",
      "0          13       0     1  0.140891  0.000000  0.158141  0.034232  0.125302  \\\n",
      "1          11       0     1  0.147297  0.000000  0.155310  0.022638  0.137629   \n",
      "2           9       1     0  0.091724  0.000000  0.117124  0.036960  0.116989   \n",
      "3          13       1     0  0.095972  0.000000  0.139443  0.043691  0.087918   \n",
      "4          12       0     1  0.129573  0.000000  0.156720  0.014294  0.095124   \n",
      "5          17       0     1  0.142985  0.000000  0.183126  0.036850  0.091377   \n",
      "6           9       0     1  0.131228  0.000000  0.175776  0.089642  0.123222   \n",
      "7           4       0     1  0.101044  0.000000  0.133913  0.122353  0.108414   \n",
      "8           9       1     0  0.230942  0.000000  0.301362  0.074309  0.065176   \n",
      "9           4       1     0  0.134479  0.000000  0.213318  0.056141  0.084780   \n",
      "10         14       1     0  0.189829  0.000000  0.204577  0.010921  0.111955   \n",
      "11          9       0     1  0.185456  0.000000  0.168654  0.000000  0.120459   \n",
      "12          2       1     0  0.134865  0.000000  0.145524  0.048349  0.101788   \n",
      "13          5       1     0  0.108800  0.000000  0.153185  0.022882  0.088783   \n",
      "14          9       1     0  0.159263  0.000000  0.158870  0.035078  0.107662   \n",
      "15         11       1     0  0.181882  0.000000  0.250783  0.027103  0.105886   \n",
      "16          9       1     0  0.173154  0.000000  0.141448  0.000000  0.087167   \n",
      "17         17       0     1  0.139383  0.000000  0.189371  0.033366  0.101199   \n",
      "18         15       1     0  0.135308  0.000000  0.142088  0.011406  0.133902   \n",
      "19         14       1     0  0.117093  0.000000  0.135168  0.000000  0.088000   \n",
      "20          4       1     0  0.203059  0.018586  0.180570  0.104014  0.126438   \n",
      "21          4       0     1  0.084421  0.000000  0.154965  0.034056  0.127228   \n",
      "22          4       1     0  0.192080  0.000000  0.210771  0.083894  0.110031   \n",
      "23          0       0     1  0.154142  0.000000  0.168493  0.000000  0.094874   \n",
      "24          2       1     0  0.227324  0.000000  0.231086  0.010481  0.099137   \n",
      "25          4       1     0  0.179663  0.013680  0.163752  0.085185  0.160272   \n",
      "26          3       1     0  0.193464  0.000000  0.251571  0.056901  0.112662   \n",
      "27          4       1     0  0.122592  0.000000  0.164023  0.050183  0.085027   \n",
      "\n",
      "      rel-13    rel-14  ...  rel-3975  rel-3977  rel-3979  rel-3981  rel-3989   \n",
      "0   0.100274  0.000000  ...  0.000000  0.000000  0.000000  0.000000  0.000000  \\\n",
      "1   0.092260  0.000000  ...  0.000000  0.000000  0.000000  0.013910  0.000000   \n",
      "2   0.104919  0.000000  ...  0.000000  0.000000  0.000000  0.047666  0.010004   \n",
      "3   0.126898  0.000000  ...  0.000000  0.000000  0.000000  0.000000  0.000000   \n",
      "4   0.119225  0.000000  ...  0.000000  0.000000  0.000000  0.015233  0.000000   \n",
      "5   0.087207  0.000000  ...  0.000000  0.000000  0.000000  0.010627  0.000000   \n",
      "6   0.104854  0.000000  ...  0.000000  0.000000  0.020643  0.036057  0.000000   \n",
      "7   0.111986  0.022993  ...  0.000000  0.000000  0.011329  0.023783  0.010706   \n",
      "8   0.172441  0.000000  ...  0.013943  0.040184  0.041840  0.039660  0.000000   \n",
      "9   0.092307  0.000000  ...  0.010035  0.000000  0.000000  0.013395  0.018347   \n",
      "10  0.137713  0.000000  ...  0.059839  0.000000  0.000000  0.086756  0.000000   \n",
      "11  0.099187  0.000000  ...  0.000000  0.000000  0.016020  0.024357  0.021780   \n",
      "12  0.091091  0.000000  ...  0.000000  0.022555  0.010633  0.029756  0.012671   \n",
      "13  0.098697  0.000000  ...  0.000000  0.000000  0.000000  0.018988  0.000000   \n",
      "14  0.067334  0.000000  ...  0.000000  0.000000  0.000000  0.057889  0.000000   \n",
      "15  0.089768  0.000000  ...  0.000000  0.000000  0.000000  0.049957  0.000000   \n",
      "16  0.074704  0.000000  ...  0.000000  0.000000  0.000000  0.017929  0.000000   \n",
      "17  0.095522  0.000000  ...  0.000000  0.000000  0.000000  0.030575  0.000000   \n",
      "18  0.110800  0.000000  ...  0.000000  0.000000  0.000000  0.017787  0.000000   \n",
      "19  0.067355  0.000000  ...  0.000000  0.000000  0.000000  0.050251  0.000000   \n",
      "20  0.083578  0.000000  ...  0.000000  0.017215  0.016428  0.023965  0.018130   \n",
      "21  0.099905  0.000000  ...  0.000000  0.017495  0.000000  0.091617  0.000000   \n",
      "22  0.134561  0.000000  ...  0.013666  0.042774  0.000000  0.126271  0.000000   \n",
      "23  0.081863  0.000000  ...  0.000000  0.000000  0.000000  0.033486  0.000000   \n",
      "24  0.135413  0.000000  ...  0.023205  0.000000  0.011331  0.088008  0.019708   \n",
      "25  0.098753  0.000000  ...  0.000000  0.000000  0.000000  0.075546  0.024103   \n",
      "26  0.122816  0.000000  ...  0.000000  0.016901  0.011435  0.048129  0.011214   \n",
      "27  0.061122  0.000000  ...  0.000000  0.000000  0.000000  0.025536  0.000000   \n",
      "\n",
      "    rel-3993  rel-3997  rel-3999  rel-4001  rel-4003  \n",
      "0   0.000000  0.000000  0.000000  0.612109  0.193069  \n",
      "1   0.000000  0.000000  0.000000  0.635466  0.275949  \n",
      "2   0.000000  0.000000  0.000000  0.577096  0.260915  \n",
      "3   0.000000  0.000000  0.000000  0.535117  0.198058  \n",
      "4   0.000000  0.000000  0.000000  0.590000  0.266638  \n",
      "5   0.000000  0.000000  0.000000  0.702736  0.267522  \n",
      "6   0.000000  0.000000  0.000000  0.612072  0.282661  \n",
      "7   0.000000  0.000000  0.014537  0.611550  0.291660  \n",
      "8   0.000000  0.011865  0.000000  0.608007  0.278882  \n",
      "9   0.013312  0.024165  0.000000  0.633834  0.284398  \n",
      "10  0.000000  0.010140  0.000000  0.662728  0.312695  \n",
      "11  0.000000  0.021331  0.018617  0.674813  0.441362  \n",
      "12  0.000000  0.000000  0.000000  0.583719  0.292009  \n",
      "13  0.000000  0.000000  0.000000  0.600286  0.286279  \n",
      "14  0.000000  0.000000  0.000000  0.555549  0.204871  \n",
      "15  0.000000  0.000000  0.000000  0.589784  0.310762  \n",
      "16  0.000000  0.000000  0.000000  0.576170  0.248499  \n",
      "17  0.000000  0.000000  0.000000  0.670338  0.232758  \n",
      "18  0.000000  0.000000  0.000000  0.646140  0.276538  \n",
      "19  0.000000  0.000000  0.000000  0.640091  0.320452  \n",
      "20  0.020956  0.000000  0.010584  0.684640  0.240465  \n",
      "21  0.000000  0.000000  0.016944  0.640797  0.249482  \n",
      "22  0.000000  0.000000  0.000000  0.654685  0.250583  \n",
      "23  0.000000  0.000000  0.047760  0.632460  0.325999  \n",
      "24  0.000000  0.011046  0.000000  0.693522  0.217447  \n",
      "25  0.000000  0.000000  0.000000  0.673725  0.213339  \n",
      "26  0.015723  0.000000  0.012270  0.602484  0.222229  \n",
      "27  0.000000  0.014708  0.000000  0.596880  0.259705  \n",
      "\n",
      "[28 rows x 1205 columns]\n"
     ]
    }
   ],
   "source": [
    "train_csv = fix_sex(train_csv)\n",
    "test_csv = fix_sex(test_csv)\n",
    "train_data, test_data, brain_activity_index = join_data(train_csv, test_csv, train_img, test_img)\n",
    "print(train_data)\n",
    "print(test_data)"
   ]
  },
  {
   "cell_type": "code",
   "execution_count": 20,
   "metadata": {},
   "outputs": [
    {
     "ename": "KeyError",
     "evalue": "'age'",
     "output_type": "error",
     "traceback": [
      "\u001b[1;31m---------------------------------------------------------------------------\u001b[0m",
      "\u001b[1;31mKeyError\u001b[0m                                  Traceback (most recent call last)",
      "File \u001b[1;32md:\\Programas\\PythonVenv\\imag\\lib\\site-packages\\pandas\\core\\indexes\\base.py:3652\u001b[0m, in \u001b[0;36mIndex.get_loc\u001b[1;34m(self, key)\u001b[0m\n\u001b[0;32m   3651\u001b[0m \u001b[39mtry\u001b[39;00m:\n\u001b[1;32m-> 3652\u001b[0m     \u001b[39mreturn\u001b[39;00m \u001b[39mself\u001b[39;49m\u001b[39m.\u001b[39;49m_engine\u001b[39m.\u001b[39;49mget_loc(casted_key)\n\u001b[0;32m   3653\u001b[0m \u001b[39mexcept\u001b[39;00m \u001b[39mKeyError\u001b[39;00m \u001b[39mas\u001b[39;00m err:\n",
      "File \u001b[1;32md:\\Programas\\PythonVenv\\imag\\lib\\site-packages\\pandas\\_libs\\index.pyx:147\u001b[0m, in \u001b[0;36mpandas._libs.index.IndexEngine.get_loc\u001b[1;34m()\u001b[0m\n",
      "File \u001b[1;32md:\\Programas\\PythonVenv\\imag\\lib\\site-packages\\pandas\\_libs\\index.pyx:176\u001b[0m, in \u001b[0;36mpandas._libs.index.IndexEngine.get_loc\u001b[1;34m()\u001b[0m\n",
      "File \u001b[1;32mpandas\\_libs\\hashtable_class_helper.pxi:7080\u001b[0m, in \u001b[0;36mpandas._libs.hashtable.PyObjectHashTable.get_item\u001b[1;34m()\u001b[0m\n",
      "File \u001b[1;32mpandas\\_libs\\hashtable_class_helper.pxi:7088\u001b[0m, in \u001b[0;36mpandas._libs.hashtable.PyObjectHashTable.get_item\u001b[1;34m()\u001b[0m\n",
      "\u001b[1;31mKeyError\u001b[0m: 'age'",
      "\nThe above exception was the direct cause of the following exception:\n",
      "\u001b[1;31mKeyError\u001b[0m                                  Traceback (most recent call last)",
      "Cell \u001b[1;32mIn[20], line 6\u001b[0m\n\u001b[0;32m      3\u001b[0m     train_data\u001b[39m.\u001b[39mdrop(\u001b[39m'\u001b[39m\u001b[39mage\u001b[39m\u001b[39m'\u001b[39m, axis\u001b[39m=\u001b[39m\u001b[39m'\u001b[39m\u001b[39mcolumns\u001b[39m\u001b[39m'\u001b[39m, inplace\u001b[39m=\u001b[39m\u001b[39mTrue\u001b[39;00m)\n\u001b[0;32m      4\u001b[0m     \u001b[39mreturn\u001b[39;00m train_data, label_data\n\u001b[1;32m----> 6\u001b[0m train_data, label_data \u001b[39m=\u001b[39m label(train_data)\n\u001b[0;32m      7\u001b[0m \u001b[39mprint\u001b[39m(train_data)\n",
      "Cell \u001b[1;32mIn[20], line 2\u001b[0m, in \u001b[0;36mlabel\u001b[1;34m(data)\u001b[0m\n\u001b[0;32m      1\u001b[0m \u001b[39mdef\u001b[39;00m \u001b[39mlabel\u001b[39m(data):\n\u001b[1;32m----> 2\u001b[0m     label_data \u001b[39m=\u001b[39m train_data[\u001b[39m'\u001b[39;49m\u001b[39mage\u001b[39;49m\u001b[39m'\u001b[39;49m]\n\u001b[0;32m      3\u001b[0m     train_data\u001b[39m.\u001b[39mdrop(\u001b[39m'\u001b[39m\u001b[39mage\u001b[39m\u001b[39m'\u001b[39m, axis\u001b[39m=\u001b[39m\u001b[39m'\u001b[39m\u001b[39mcolumns\u001b[39m\u001b[39m'\u001b[39m, inplace\u001b[39m=\u001b[39m\u001b[39mTrue\u001b[39;00m)\n\u001b[0;32m      4\u001b[0m     \u001b[39mreturn\u001b[39;00m train_data, label_data\n",
      "File \u001b[1;32md:\\Programas\\PythonVenv\\imag\\lib\\site-packages\\pandas\\core\\frame.py:3761\u001b[0m, in \u001b[0;36mDataFrame.__getitem__\u001b[1;34m(self, key)\u001b[0m\n\u001b[0;32m   3759\u001b[0m \u001b[39mif\u001b[39;00m \u001b[39mself\u001b[39m\u001b[39m.\u001b[39mcolumns\u001b[39m.\u001b[39mnlevels \u001b[39m>\u001b[39m \u001b[39m1\u001b[39m:\n\u001b[0;32m   3760\u001b[0m     \u001b[39mreturn\u001b[39;00m \u001b[39mself\u001b[39m\u001b[39m.\u001b[39m_getitem_multilevel(key)\n\u001b[1;32m-> 3761\u001b[0m indexer \u001b[39m=\u001b[39m \u001b[39mself\u001b[39;49m\u001b[39m.\u001b[39;49mcolumns\u001b[39m.\u001b[39;49mget_loc(key)\n\u001b[0;32m   3762\u001b[0m \u001b[39mif\u001b[39;00m is_integer(indexer):\n\u001b[0;32m   3763\u001b[0m     indexer \u001b[39m=\u001b[39m [indexer]\n",
      "File \u001b[1;32md:\\Programas\\PythonVenv\\imag\\lib\\site-packages\\pandas\\core\\indexes\\base.py:3654\u001b[0m, in \u001b[0;36mIndex.get_loc\u001b[1;34m(self, key)\u001b[0m\n\u001b[0;32m   3652\u001b[0m     \u001b[39mreturn\u001b[39;00m \u001b[39mself\u001b[39m\u001b[39m.\u001b[39m_engine\u001b[39m.\u001b[39mget_loc(casted_key)\n\u001b[0;32m   3653\u001b[0m \u001b[39mexcept\u001b[39;00m \u001b[39mKeyError\u001b[39;00m \u001b[39mas\u001b[39;00m err:\n\u001b[1;32m-> 3654\u001b[0m     \u001b[39mraise\u001b[39;00m \u001b[39mKeyError\u001b[39;00m(key) \u001b[39mfrom\u001b[39;00m \u001b[39merr\u001b[39;00m\n\u001b[0;32m   3655\u001b[0m \u001b[39mexcept\u001b[39;00m \u001b[39mTypeError\u001b[39;00m:\n\u001b[0;32m   3656\u001b[0m     \u001b[39m# If we have a listlike key, _check_indexing_error will raise\u001b[39;00m\n\u001b[0;32m   3657\u001b[0m     \u001b[39m#  InvalidIndexError. Otherwise we fall through and re-raise\u001b[39;00m\n\u001b[0;32m   3658\u001b[0m     \u001b[39m#  the TypeError.\u001b[39;00m\n\u001b[0;32m   3659\u001b[0m     \u001b[39mself\u001b[39m\u001b[39m.\u001b[39m_check_indexing_error(key)\n",
      "\u001b[1;31mKeyError\u001b[0m: 'age'"
     ]
    }
   ],
   "source": [
    "def label(data):\n",
    "    label_data = train_data['age']\n",
    "    train_data.drop('age', axis='columns', inplace=True)\n",
    "    return train_data, label_data\n",
    "\n",
    "train_data, label_data = label(train_data)\n",
    "print(train_data)"
   ]
  },
  {
   "attachments": {},
   "cell_type": "markdown",
   "metadata": {},
   "source": [
    "# 2 Definir o Modelo"
   ]
  },
  {
   "cell_type": "code",
   "execution_count": 29,
   "metadata": {},
   "outputs": [],
   "source": [
    "# Create the Random Forest classifier\n",
    "rf_model = RandomForestClassifier()\n",
    "\n",
    "# Create the XGBoost classifier\n",
    "xgb_model = XGBClassifier()"
   ]
  },
  {
   "attachments": {},
   "cell_type": "markdown",
   "metadata": {},
   "source": [
    "# 3 Treinar o Modelo"
   ]
  },
  {
   "cell_type": "code",
   "execution_count": 22,
   "metadata": {},
   "outputs": [
    {
     "data": {
      "text/html": [
       "<style>#sk-container-id-1 {color: black;background-color: white;}#sk-container-id-1 pre{padding: 0;}#sk-container-id-1 div.sk-toggleable {background-color: white;}#sk-container-id-1 label.sk-toggleable__label {cursor: pointer;display: block;width: 100%;margin-bottom: 0;padding: 0.3em;box-sizing: border-box;text-align: center;}#sk-container-id-1 label.sk-toggleable__label-arrow:before {content: \"▸\";float: left;margin-right: 0.25em;color: #696969;}#sk-container-id-1 label.sk-toggleable__label-arrow:hover:before {color: black;}#sk-container-id-1 div.sk-estimator:hover label.sk-toggleable__label-arrow:before {color: black;}#sk-container-id-1 div.sk-toggleable__content {max-height: 0;max-width: 0;overflow: hidden;text-align: left;background-color: #f0f8ff;}#sk-container-id-1 div.sk-toggleable__content pre {margin: 0.2em;color: black;border-radius: 0.25em;background-color: #f0f8ff;}#sk-container-id-1 input.sk-toggleable__control:checked~div.sk-toggleable__content {max-height: 200px;max-width: 100%;overflow: auto;}#sk-container-id-1 input.sk-toggleable__control:checked~label.sk-toggleable__label-arrow:before {content: \"▾\";}#sk-container-id-1 div.sk-estimator input.sk-toggleable__control:checked~label.sk-toggleable__label {background-color: #d4ebff;}#sk-container-id-1 div.sk-label input.sk-toggleable__control:checked~label.sk-toggleable__label {background-color: #d4ebff;}#sk-container-id-1 input.sk-hidden--visually {border: 0;clip: rect(1px 1px 1px 1px);clip: rect(1px, 1px, 1px, 1px);height: 1px;margin: -1px;overflow: hidden;padding: 0;position: absolute;width: 1px;}#sk-container-id-1 div.sk-estimator {font-family: monospace;background-color: #f0f8ff;border: 1px dotted black;border-radius: 0.25em;box-sizing: border-box;margin-bottom: 0.5em;}#sk-container-id-1 div.sk-estimator:hover {background-color: #d4ebff;}#sk-container-id-1 div.sk-parallel-item::after {content: \"\";width: 100%;border-bottom: 1px solid gray;flex-grow: 1;}#sk-container-id-1 div.sk-label:hover label.sk-toggleable__label {background-color: #d4ebff;}#sk-container-id-1 div.sk-serial::before {content: \"\";position: absolute;border-left: 1px solid gray;box-sizing: border-box;top: 0;bottom: 0;left: 50%;z-index: 0;}#sk-container-id-1 div.sk-serial {display: flex;flex-direction: column;align-items: center;background-color: white;padding-right: 0.2em;padding-left: 0.2em;position: relative;}#sk-container-id-1 div.sk-item {position: relative;z-index: 1;}#sk-container-id-1 div.sk-parallel {display: flex;align-items: stretch;justify-content: center;background-color: white;position: relative;}#sk-container-id-1 div.sk-item::before, #sk-container-id-1 div.sk-parallel-item::before {content: \"\";position: absolute;border-left: 1px solid gray;box-sizing: border-box;top: 0;bottom: 0;left: 50%;z-index: -1;}#sk-container-id-1 div.sk-parallel-item {display: flex;flex-direction: column;z-index: 1;position: relative;background-color: white;}#sk-container-id-1 div.sk-parallel-item:first-child::after {align-self: flex-end;width: 50%;}#sk-container-id-1 div.sk-parallel-item:last-child::after {align-self: flex-start;width: 50%;}#sk-container-id-1 div.sk-parallel-item:only-child::after {width: 0;}#sk-container-id-1 div.sk-dashed-wrapped {border: 1px dashed gray;margin: 0 0.4em 0.5em 0.4em;box-sizing: border-box;padding-bottom: 0.4em;background-color: white;}#sk-container-id-1 div.sk-label label {font-family: monospace;font-weight: bold;display: inline-block;line-height: 1.2em;}#sk-container-id-1 div.sk-label-container {text-align: center;}#sk-container-id-1 div.sk-container {/* jupyter's `normalize.less` sets `[hidden] { display: none; }` but bootstrap.min.css set `[hidden] { display: none !important; }` so we also need the `!important` here to be able to override the default hidden behavior on the sphinx rendered scikit-learn.org. See: https://github.com/scikit-learn/scikit-learn/issues/21755 */display: inline-block !important;position: relative;}#sk-container-id-1 div.sk-text-repr-fallback {display: none;}</style><div id=\"sk-container-id-1\" class=\"sk-top-container\"><div class=\"sk-text-repr-fallback\"><pre>RandomForestClassifier()</pre><b>In a Jupyter environment, please rerun this cell to show the HTML representation or trust the notebook. <br />On GitHub, the HTML representation is unable to render, please try loading this page with nbviewer.org.</b></div><div class=\"sk-container\" hidden><div class=\"sk-item\"><div class=\"sk-estimator sk-toggleable\"><input class=\"sk-toggleable__control sk-hidden--visually\" id=\"sk-estimator-id-1\" type=\"checkbox\" checked><label for=\"sk-estimator-id-1\" class=\"sk-toggleable__label sk-toggleable__label-arrow\">RandomForestClassifier</label><div class=\"sk-toggleable__content\"><pre>RandomForestClassifier()</pre></div></div></div></div></div>"
      ],
      "text/plain": [
       "RandomForestClassifier()"
      ]
     },
     "execution_count": 22,
     "metadata": {},
     "output_type": "execute_result"
    }
   ],
   "source": [
    "# Fit the model to the training data\n",
    "rf_model.fit(train_data, label_data)"
   ]
  },
  {
   "cell_type": "code",
   "execution_count": 32,
   "metadata": {},
   "outputs": [
    {
     "data": {
      "text/html": [
       "<style>#sk-container-id-2 {color: black;background-color: white;}#sk-container-id-2 pre{padding: 0;}#sk-container-id-2 div.sk-toggleable {background-color: white;}#sk-container-id-2 label.sk-toggleable__label {cursor: pointer;display: block;width: 100%;margin-bottom: 0;padding: 0.3em;box-sizing: border-box;text-align: center;}#sk-container-id-2 label.sk-toggleable__label-arrow:before {content: \"▸\";float: left;margin-right: 0.25em;color: #696969;}#sk-container-id-2 label.sk-toggleable__label-arrow:hover:before {color: black;}#sk-container-id-2 div.sk-estimator:hover label.sk-toggleable__label-arrow:before {color: black;}#sk-container-id-2 div.sk-toggleable__content {max-height: 0;max-width: 0;overflow: hidden;text-align: left;background-color: #f0f8ff;}#sk-container-id-2 div.sk-toggleable__content pre {margin: 0.2em;color: black;border-radius: 0.25em;background-color: #f0f8ff;}#sk-container-id-2 input.sk-toggleable__control:checked~div.sk-toggleable__content {max-height: 200px;max-width: 100%;overflow: auto;}#sk-container-id-2 input.sk-toggleable__control:checked~label.sk-toggleable__label-arrow:before {content: \"▾\";}#sk-container-id-2 div.sk-estimator input.sk-toggleable__control:checked~label.sk-toggleable__label {background-color: #d4ebff;}#sk-container-id-2 div.sk-label input.sk-toggleable__control:checked~label.sk-toggleable__label {background-color: #d4ebff;}#sk-container-id-2 input.sk-hidden--visually {border: 0;clip: rect(1px 1px 1px 1px);clip: rect(1px, 1px, 1px, 1px);height: 1px;margin: -1px;overflow: hidden;padding: 0;position: absolute;width: 1px;}#sk-container-id-2 div.sk-estimator {font-family: monospace;background-color: #f0f8ff;border: 1px dotted black;border-radius: 0.25em;box-sizing: border-box;margin-bottom: 0.5em;}#sk-container-id-2 div.sk-estimator:hover {background-color: #d4ebff;}#sk-container-id-2 div.sk-parallel-item::after {content: \"\";width: 100%;border-bottom: 1px solid gray;flex-grow: 1;}#sk-container-id-2 div.sk-label:hover label.sk-toggleable__label {background-color: #d4ebff;}#sk-container-id-2 div.sk-serial::before {content: \"\";position: absolute;border-left: 1px solid gray;box-sizing: border-box;top: 0;bottom: 0;left: 50%;z-index: 0;}#sk-container-id-2 div.sk-serial {display: flex;flex-direction: column;align-items: center;background-color: white;padding-right: 0.2em;padding-left: 0.2em;position: relative;}#sk-container-id-2 div.sk-item {position: relative;z-index: 1;}#sk-container-id-2 div.sk-parallel {display: flex;align-items: stretch;justify-content: center;background-color: white;position: relative;}#sk-container-id-2 div.sk-item::before, #sk-container-id-2 div.sk-parallel-item::before {content: \"\";position: absolute;border-left: 1px solid gray;box-sizing: border-box;top: 0;bottom: 0;left: 50%;z-index: -1;}#sk-container-id-2 div.sk-parallel-item {display: flex;flex-direction: column;z-index: 1;position: relative;background-color: white;}#sk-container-id-2 div.sk-parallel-item:first-child::after {align-self: flex-end;width: 50%;}#sk-container-id-2 div.sk-parallel-item:last-child::after {align-self: flex-start;width: 50%;}#sk-container-id-2 div.sk-parallel-item:only-child::after {width: 0;}#sk-container-id-2 div.sk-dashed-wrapped {border: 1px dashed gray;margin: 0 0.4em 0.5em 0.4em;box-sizing: border-box;padding-bottom: 0.4em;background-color: white;}#sk-container-id-2 div.sk-label label {font-family: monospace;font-weight: bold;display: inline-block;line-height: 1.2em;}#sk-container-id-2 div.sk-label-container {text-align: center;}#sk-container-id-2 div.sk-container {/* jupyter's `normalize.less` sets `[hidden] { display: none; }` but bootstrap.min.css set `[hidden] { display: none !important; }` so we also need the `!important` here to be able to override the default hidden behavior on the sphinx rendered scikit-learn.org. See: https://github.com/scikit-learn/scikit-learn/issues/21755 */display: inline-block !important;position: relative;}#sk-container-id-2 div.sk-text-repr-fallback {display: none;}</style><div id=\"sk-container-id-2\" class=\"sk-top-container\"><div class=\"sk-text-repr-fallback\"><pre>XGBClassifier(base_score=None, booster=None, callbacks=None,\n",
       "              colsample_bylevel=None, colsample_bynode=None,\n",
       "              colsample_bytree=None, early_stopping_rounds=None,\n",
       "              enable_categorical=False, eval_metric=None, feature_types=None,\n",
       "              gamma=None, gpu_id=None, grow_policy=None, importance_type=None,\n",
       "              interaction_constraints=None, learning_rate=None, max_bin=None,\n",
       "              max_cat_threshold=None, max_cat_to_onehot=None,\n",
       "              max_delta_step=None, max_depth=None, max_leaves=None,\n",
       "              min_child_weight=None, missing=nan, monotone_constraints=None,\n",
       "              n_estimators=100, n_jobs=None, num_parallel_tree=None,\n",
       "              objective=&#x27;multi:softprob&#x27;, predictor=None, ...)</pre><b>In a Jupyter environment, please rerun this cell to show the HTML representation or trust the notebook. <br />On GitHub, the HTML representation is unable to render, please try loading this page with nbviewer.org.</b></div><div class=\"sk-container\" hidden><div class=\"sk-item\"><div class=\"sk-estimator sk-toggleable\"><input class=\"sk-toggleable__control sk-hidden--visually\" id=\"sk-estimator-id-2\" type=\"checkbox\" checked><label for=\"sk-estimator-id-2\" class=\"sk-toggleable__label sk-toggleable__label-arrow\">XGBClassifier</label><div class=\"sk-toggleable__content\"><pre>XGBClassifier(base_score=None, booster=None, callbacks=None,\n",
       "              colsample_bylevel=None, colsample_bynode=None,\n",
       "              colsample_bytree=None, early_stopping_rounds=None,\n",
       "              enable_categorical=False, eval_metric=None, feature_types=None,\n",
       "              gamma=None, gpu_id=None, grow_policy=None, importance_type=None,\n",
       "              interaction_constraints=None, learning_rate=None, max_bin=None,\n",
       "              max_cat_threshold=None, max_cat_to_onehot=None,\n",
       "              max_delta_step=None, max_depth=None, max_leaves=None,\n",
       "              min_child_weight=None, missing=nan, monotone_constraints=None,\n",
       "              n_estimators=100, n_jobs=None, num_parallel_tree=None,\n",
       "              objective=&#x27;multi:softprob&#x27;, predictor=None, ...)</pre></div></div></div></div></div>"
      ],
      "text/plain": [
       "XGBClassifier(base_score=None, booster=None, callbacks=None,\n",
       "              colsample_bylevel=None, colsample_bynode=None,\n",
       "              colsample_bytree=None, early_stopping_rounds=None,\n",
       "              enable_categorical=False, eval_metric=None, feature_types=None,\n",
       "              gamma=None, gpu_id=None, grow_policy=None, importance_type=None,\n",
       "              interaction_constraints=None, learning_rate=None, max_bin=None,\n",
       "              max_cat_threshold=None, max_cat_to_onehot=None,\n",
       "              max_delta_step=None, max_depth=None, max_leaves=None,\n",
       "              min_child_weight=None, missing=nan, monotone_constraints=None,\n",
       "              n_estimators=100, n_jobs=None, num_parallel_tree=None,\n",
       "              objective='multi:softprob', predictor=None, ...)"
      ]
     },
     "execution_count": 32,
     "metadata": {},
     "output_type": "execute_result"
    }
   ],
   "source": [
    "from sklearn.preprocessing import LabelEncoder\n",
    "\n",
    "label_encoder = LabelEncoder()\n",
    "y_encoded = label_encoder.fit_transform(label_data)\n",
    "\n",
    "# Fit the model to the training data\n",
    "xgb_model.fit(train_data, y_encoded)\n"
   ]
  },
  {
   "attachments": {},
   "cell_type": "markdown",
   "metadata": {},
   "source": [
    "# 4 Avaliar o Modelo"
   ]
  },
  {
   "cell_type": "code",
   "execution_count": null,
   "metadata": {},
   "outputs": [],
   "source": []
  },
  {
   "attachments": {},
   "cell_type": "markdown",
   "metadata": {},
   "source": [
    "# 5 Testar o Modelo"
   ]
  },
  {
   "cell_type": "code",
   "execution_count": 28,
   "metadata": {},
   "outputs": [
    {
     "name": "stdout",
     "output_type": "stream",
     "text": [
      "[16 15 16 16 18 25 76 69 76 63 69 69 69 62 16 16 16 15 18 15 68 58 69 69\n",
      " 69 76 55 69]\n"
     ]
    }
   ],
   "source": [
    "# Random Forest predictions\n",
    "rf_predictions = rf_model.predict(test_data)\n",
    "print(rf_predictions)"
   ]
  },
  {
   "cell_type": "code",
   "execution_count": 36,
   "metadata": {},
   "outputs": [
    {
     "name": "stdout",
     "output_type": "stream",
     "text": [
      "[15 16 16 16 16 25 69 69 64 25 63 63 63 55 16 15 16 24 24 46 68 69 56 55\n",
      " 69 56 63 76]\n"
     ]
    }
   ],
   "source": [
    "# XGBoost predictions\n",
    "xgb_predictions = xgb_model.predict(test_data)\n",
    "y_pred_original = label_encoder.inverse_transform(xgb_predictions)\n",
    "\n",
    "print(y_pred_original)"
   ]
  }
 ],
 "metadata": {
  "kernelspec": {
   "display_name": "imag",
   "language": "python",
   "name": "python3"
  },
  "language_info": {
   "codemirror_mode": {
    "name": "ipython",
    "version": 3
   },
   "file_extension": ".py",
   "mimetype": "text/x-python",
   "name": "python",
   "nbconvert_exporter": "python",
   "pygments_lexer": "ipython3",
   "version": "3.8.10"
  },
  "orig_nbformat": 4
 },
 "nbformat": 4,
 "nbformat_minor": 2
}
